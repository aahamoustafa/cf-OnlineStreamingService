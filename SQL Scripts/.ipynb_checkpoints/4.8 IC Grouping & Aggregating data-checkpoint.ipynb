{
 "cells": [
  {
   "cell_type": "markdown",
   "id": "8283ca8d-3a6b-4fff-8efb-17922e49aed5",
   "metadata": {},
   "source": [
    "## GROUPING & AGGREGATING DATA \n",
    "\n",
    "### 1. Average Number of Orders per User\n",
    "\n",
    "### 2. Creating a Loyalty Flag for customers\n",
    "\n",
    "### 3. Loyalty Flag Statistics\n",
    "\n",
    "### 4. Classifying Spenders\n",
    "\n",
    "### 5. Classifying frequent customers"
   ]
  },
  {
   "cell_type": "code",
   "execution_count": 83,
   "id": "33a86554-ac0c-416f-aca3-ca89b0be42a5",
   "metadata": {},
   "outputs": [],
   "source": [
    "## importing libraries & data \n",
    "import pandas as pd \n",
    "import numpy as np \n",
    "import os \n",
    "\n",
    "path = r'/Users/aahamoustafa/Desktop/Data Projects/Instacart Basket Analysis 11-2024'\n",
    "\n",
    "ords_prods_merge =  pd.read_pickle(os.path.join(path,'02 Data', 'Prepared Data', 'ords_prods_latest.pkl'))\n"
   ]
  },
  {
   "cell_type": "code",
   "execution_count": 84,
   "id": "3e9124ab-e91c-42d9-a43a-9346b9ade11a",
   "metadata": {
    "scrolled": true
   },
   "outputs": [
    {
     "data": {
      "text/html": [
       "<div>\n",
       "<style scoped>\n",
       "    .dataframe tbody tr th:only-of-type {\n",
       "        vertical-align: middle;\n",
       "    }\n",
       "\n",
       "    .dataframe tbody tr th {\n",
       "        vertical-align: top;\n",
       "    }\n",
       "\n",
       "    .dataframe thead th {\n",
       "        text-align: right;\n",
       "    }\n",
       "</style>\n",
       "<table border=\"1\" class=\"dataframe\">\n",
       "  <thead>\n",
       "    <tr style=\"text-align: right;\">\n",
       "      <th></th>\n",
       "      <th>order_id</th>\n",
       "      <th>user_id</th>\n",
       "      <th>order_number</th>\n",
       "      <th>order_day_of_week</th>\n",
       "      <th>order_hour_of_day</th>\n",
       "      <th>days_since_prior_order</th>\n",
       "      <th>product_id</th>\n",
       "      <th>add_to_cart_order</th>\n",
       "      <th>reordered</th>\n",
       "      <th>product_name</th>\n",
       "      <th>aisle_id</th>\n",
       "      <th>department_id</th>\n",
       "      <th>prices</th>\n",
       "      <th>_merge</th>\n",
       "      <th>price_range_loc</th>\n",
       "      <th>Busiest_day</th>\n",
       "      <th>Busiest_period_of_day</th>\n",
       "    </tr>\n",
       "  </thead>\n",
       "  <tbody>\n",
       "    <tr>\n",
       "      <th>0</th>\n",
       "      <td>2539329</td>\n",
       "      <td>1</td>\n",
       "      <td>1</td>\n",
       "      <td>2</td>\n",
       "      <td>8</td>\n",
       "      <td>NaN</td>\n",
       "      <td>196</td>\n",
       "      <td>1</td>\n",
       "      <td>0</td>\n",
       "      <td>Soda</td>\n",
       "      <td>77</td>\n",
       "      <td>7</td>\n",
       "      <td>9.0</td>\n",
       "      <td>both</td>\n",
       "      <td>Mid range Product</td>\n",
       "      <td>Regularly Busy</td>\n",
       "      <td>Average Orders</td>\n",
       "    </tr>\n",
       "    <tr>\n",
       "      <th>1</th>\n",
       "      <td>2539329</td>\n",
       "      <td>1</td>\n",
       "      <td>1</td>\n",
       "      <td>2</td>\n",
       "      <td>8</td>\n",
       "      <td>NaN</td>\n",
       "      <td>14084</td>\n",
       "      <td>2</td>\n",
       "      <td>0</td>\n",
       "      <td>Organic Unsweetened Vanilla Almond Milk</td>\n",
       "      <td>91</td>\n",
       "      <td>16</td>\n",
       "      <td>12.5</td>\n",
       "      <td>both</td>\n",
       "      <td>Mid range Product</td>\n",
       "      <td>Regularly Busy</td>\n",
       "      <td>Average Orders</td>\n",
       "    </tr>\n",
       "    <tr>\n",
       "      <th>2</th>\n",
       "      <td>2539329</td>\n",
       "      <td>1</td>\n",
       "      <td>1</td>\n",
       "      <td>2</td>\n",
       "      <td>8</td>\n",
       "      <td>NaN</td>\n",
       "      <td>12427</td>\n",
       "      <td>3</td>\n",
       "      <td>0</td>\n",
       "      <td>Original Beef Jerky</td>\n",
       "      <td>23</td>\n",
       "      <td>19</td>\n",
       "      <td>4.4</td>\n",
       "      <td>both</td>\n",
       "      <td>Low range Product</td>\n",
       "      <td>Regularly Busy</td>\n",
       "      <td>Average Orders</td>\n",
       "    </tr>\n",
       "    <tr>\n",
       "      <th>3</th>\n",
       "      <td>2539329</td>\n",
       "      <td>1</td>\n",
       "      <td>1</td>\n",
       "      <td>2</td>\n",
       "      <td>8</td>\n",
       "      <td>NaN</td>\n",
       "      <td>26088</td>\n",
       "      <td>4</td>\n",
       "      <td>0</td>\n",
       "      <td>Aged White Cheddar Popcorn</td>\n",
       "      <td>23</td>\n",
       "      <td>19</td>\n",
       "      <td>4.7</td>\n",
       "      <td>both</td>\n",
       "      <td>Low range Product</td>\n",
       "      <td>Regularly Busy</td>\n",
       "      <td>Average Orders</td>\n",
       "    </tr>\n",
       "    <tr>\n",
       "      <th>4</th>\n",
       "      <td>2539329</td>\n",
       "      <td>1</td>\n",
       "      <td>1</td>\n",
       "      <td>2</td>\n",
       "      <td>8</td>\n",
       "      <td>NaN</td>\n",
       "      <td>26405</td>\n",
       "      <td>5</td>\n",
       "      <td>0</td>\n",
       "      <td>XL Pick-A-Size Paper Towel Rolls</td>\n",
       "      <td>54</td>\n",
       "      <td>17</td>\n",
       "      <td>1.0</td>\n",
       "      <td>both</td>\n",
       "      <td>Low range Product</td>\n",
       "      <td>Regularly Busy</td>\n",
       "      <td>Average Orders</td>\n",
       "    </tr>\n",
       "  </tbody>\n",
       "</table>\n",
       "</div>"
      ],
      "text/plain": [
       "   order_id  user_id  order_number  order_day_of_week  order_hour_of_day  \\\n",
       "0   2539329        1             1                  2                  8   \n",
       "1   2539329        1             1                  2                  8   \n",
       "2   2539329        1             1                  2                  8   \n",
       "3   2539329        1             1                  2                  8   \n",
       "4   2539329        1             1                  2                  8   \n",
       "\n",
       "   days_since_prior_order  product_id  add_to_cart_order  reordered  \\\n",
       "0                     NaN         196                  1          0   \n",
       "1                     NaN       14084                  2          0   \n",
       "2                     NaN       12427                  3          0   \n",
       "3                     NaN       26088                  4          0   \n",
       "4                     NaN       26405                  5          0   \n",
       "\n",
       "                              product_name  aisle_id  department_id  prices  \\\n",
       "0                                     Soda        77              7     9.0   \n",
       "1  Organic Unsweetened Vanilla Almond Milk        91             16    12.5   \n",
       "2                      Original Beef Jerky        23             19     4.4   \n",
       "3               Aged White Cheddar Popcorn        23             19     4.7   \n",
       "4         XL Pick-A-Size Paper Towel Rolls        54             17     1.0   \n",
       "\n",
       "  _merge    price_range_loc     Busiest_day Busiest_period_of_day  \n",
       "0   both  Mid range Product  Regularly Busy        Average Orders  \n",
       "1   both  Mid range Product  Regularly Busy        Average Orders  \n",
       "2   both  Low range Product  Regularly Busy        Average Orders  \n",
       "3   both  Low range Product  Regularly Busy        Average Orders  \n",
       "4   both  Low range Product  Regularly Busy        Average Orders  "
      ]
     },
     "execution_count": 84,
     "metadata": {},
     "output_type": "execute_result"
    }
   ],
   "source": [
    "ords_prods_merge.head()"
   ]
  },
  {
   "cell_type": "code",
   "execution_count": 85,
   "id": "28078c65-37db-4d34-a1cd-45a94c53fbfa",
   "metadata": {
    "scrolled": true
   },
   "outputs": [
    {
     "data": {
      "text/plain": [
       "(32404859, 17)"
      ]
     },
     "execution_count": 85,
     "metadata": {},
     "output_type": "execute_result"
    }
   ],
   "source": [
    "ords_prods_merge.shape"
   ]
  },
  {
   "cell_type": "markdown",
   "id": "5bf6d511-39b3-4a16-a33f-5c2597e52520",
   "metadata": {},
   "source": [
    "## 1. Average Number of Orders Per user in each department "
   ]
  },
  {
   "cell_type": "code",
   "execution_count": 87,
   "id": "f748eff1-30e4-45e2-ad15-4d36fb3ee0fb",
   "metadata": {
    "scrolled": true
   },
   "outputs": [
    {
     "data": {
      "text/plain": [
       "department_id\n",
       "1     15.457838\n",
       "2     17.277920\n",
       "3     17.170395\n",
       "4     17.811403\n",
       "5     15.215751\n",
       "6     16.439806\n",
       "7     17.225802\n",
       "8     15.340650\n",
       "9     15.895474\n",
       "10    20.197148\n",
       "11    16.170638\n",
       "12    15.887671\n",
       "13    16.583536\n",
       "14    16.773669\n",
       "15    16.165037\n",
       "16    17.665606\n",
       "17    15.694469\n",
       "18    19.310397\n",
       "19    17.177343\n",
       "20    16.473447\n",
       "21    22.902379\n",
       "Name: order_number, dtype: float64"
      ]
     },
     "execution_count": 87,
     "metadata": {},
     "output_type": "execute_result"
    }
   ],
   "source": [
    "## getting the average orders per user from each department \n",
    "\n",
    "ords_prods_merge.groupby('department_id')['order_number'].mean()"
   ]
  },
  {
   "cell_type": "markdown",
   "id": "54664c1a-a3a6-46c5-b2d7-ec2b5f37d270",
   "metadata": {},
   "source": [
    "#### The averages have increased in almost all departments in comparison with the subset, which makes sense as we are aggregating more data "
   ]
  },
  {
   "cell_type": "markdown",
   "id": "0002a90c-f3f7-41e2-92d5-ec372f089d6f",
   "metadata": {},
   "source": [
    "## 2. Creating a Loyalty Flag For Customers"
   ]
  },
  {
   "cell_type": "code",
   "execution_count": null,
   "id": "1e91a15f-dcd0-4039-a19a-60de95b8b05e",
   "metadata": {
    "scrolled": true
   },
   "outputs": [],
   "source": [
    "## First creating a max order column for each user \n",
    "\n",
    "ords_prods_merge['max_order'] = ords_prods_merge.groupby(['user_id'])['order_number'].transform(np.max)\n"
   ]
  },
  {
   "cell_type": "code",
   "execution_count": 91,
   "id": "8e879cdd-a63d-4da6-928d-59959f9a890b",
   "metadata": {
    "scrolled": true
   },
   "outputs": [],
   "source": [
    "## creating loyalty flag column\n",
    "ords_prods_merge.loc[ords_prods_merge['max_order'] > 40, 'loyalty_flag'] = 'Loyal customer'\n",
    "ords_prods_merge.loc[(ords_prods_merge['max_order'] <= 40) & (ords_prods_merge['max_order'] > 10), 'loyalty_flag'] = 'Regular customer'\n",
    "ords_prods_merge.loc[ords_prods_merge['max_order'] <= 10, 'loyalty_flag'] = 'New customer'"
   ]
  },
  {
   "cell_type": "code",
   "execution_count": 92,
   "id": "ba90c295-34f6-4027-bf6c-31ea8b34ff55",
   "metadata": {
    "scrolled": true
   },
   "outputs": [
    {
     "data": {
      "text/plain": [
       "loyalty_flag\n",
       "Regular customer    15876776\n",
       "Loyal customer      10284093\n",
       "New customer         6243990\n",
       "Name: count, dtype: int64"
      ]
     },
     "execution_count": 92,
     "metadata": {},
     "output_type": "execute_result"
    }
   ],
   "source": [
    "## checking counts of loyalty flag\n",
    "ords_prods_merge['loyalty_flag'].value_counts(dropna = False)"
   ]
  },
  {
   "cell_type": "markdown",
   "id": "51470582-3aa3-4fe2-8fc0-7dd047c33199",
   "metadata": {},
   "source": [
    "## 3. Product Prices purchased for each loyalty category "
   ]
  },
  {
   "cell_type": "code",
   "execution_count": 94,
   "id": "8b17838c-1a04-4777-95e6-1192600a2858",
   "metadata": {
    "scrolled": true
   },
   "outputs": [
    {
     "data": {
      "text/html": [
       "<div>\n",
       "<style scoped>\n",
       "    .dataframe tbody tr th:only-of-type {\n",
       "        vertical-align: middle;\n",
       "    }\n",
       "\n",
       "    .dataframe tbody tr th {\n",
       "        vertical-align: top;\n",
       "    }\n",
       "\n",
       "    .dataframe thead th {\n",
       "        text-align: right;\n",
       "    }\n",
       "</style>\n",
       "<table border=\"1\" class=\"dataframe\">\n",
       "  <thead>\n",
       "    <tr style=\"text-align: right;\">\n",
       "      <th></th>\n",
       "      <th>count</th>\n",
       "      <th>mean</th>\n",
       "      <th>std</th>\n",
       "      <th>min</th>\n",
       "      <th>25%</th>\n",
       "      <th>50%</th>\n",
       "      <th>75%</th>\n",
       "      <th>max</th>\n",
       "    </tr>\n",
       "    <tr>\n",
       "      <th>loyalty_flag</th>\n",
       "      <th></th>\n",
       "      <th></th>\n",
       "      <th></th>\n",
       "      <th></th>\n",
       "      <th></th>\n",
       "      <th></th>\n",
       "      <th></th>\n",
       "      <th></th>\n",
       "    </tr>\n",
       "  </thead>\n",
       "  <tbody>\n",
       "    <tr>\n",
       "      <th>Loyal customer</th>\n",
       "      <td>17017.0</td>\n",
       "      <td>10.727438</td>\n",
       "      <td>74.742936</td>\n",
       "      <td>2.387671</td>\n",
       "      <td>7.347756</td>\n",
       "      <td>7.802725</td>\n",
       "      <td>8.237792</td>\n",
       "      <td>8794.882427</td>\n",
       "    </tr>\n",
       "    <tr>\n",
       "      <th>New customer</th>\n",
       "      <td>112328.0</td>\n",
       "      <td>13.092311</td>\n",
       "      <td>158.659130</td>\n",
       "      <td>1.000000</td>\n",
       "      <td>7.153217</td>\n",
       "      <td>7.792857</td>\n",
       "      <td>8.416077</td>\n",
       "      <td>25005.425000</td>\n",
       "    </tr>\n",
       "    <tr>\n",
       "      <th>Regular customer</th>\n",
       "      <td>76864.0</td>\n",
       "      <td>12.162837</td>\n",
       "      <td>75.197741</td>\n",
       "      <td>1.308333</td>\n",
       "      <td>7.294335</td>\n",
       "      <td>7.809193</td>\n",
       "      <td>8.299128</td>\n",
       "      <td>4506.269204</td>\n",
       "    </tr>\n",
       "  </tbody>\n",
       "</table>\n",
       "</div>"
      ],
      "text/plain": [
       "                     count       mean         std       min       25%  \\\n",
       "loyalty_flag                                                            \n",
       "Loyal customer     17017.0  10.727438   74.742936  2.387671  7.347756   \n",
       "New customer      112328.0  13.092311  158.659130  1.000000  7.153217   \n",
       "Regular customer   76864.0  12.162837   75.197741  1.308333  7.294335   \n",
       "\n",
       "                       50%       75%           max  \n",
       "loyalty_flag                                        \n",
       "Loyal customer    7.802725  8.237792   8794.882427  \n",
       "New customer      7.792857  8.416077  25005.425000  \n",
       "Regular customer  7.809193  8.299128   4506.269204  "
      ]
     },
     "execution_count": 94,
     "metadata": {},
     "output_type": "execute_result"
    }
   ],
   "source": [
    "# Calculate average spending per customer\n",
    "avg_spending_per_customer = ords_prods_merge.groupby(['user_id', 'loyalty_flag'])['prices'].mean().reset_index()\n",
    "\n",
    "# Group by loyalty_flag to compare basic spending statistics \n",
    "avg_spending_per_customer.groupby('loyalty_flag')['prices'].describe()\n",
    "\n"
   ]
  },
  {
   "cell_type": "markdown",
   "id": "724a662a-c379-44ab-bb20-45c6c4127464",
   "metadata": {},
   "source": [
    "## 4. Targeting different types of spenders "
   ]
  },
  {
   "cell_type": "markdown",
   "id": "de53ede5-d8c2-4584-985d-31e9506910a8",
   "metadata": {
    "scrolled": true
   },
   "source": [
    "#### 1. First we will create the new column average_price using transform()"
   ]
  },
  {
   "cell_type": "code",
   "execution_count": 98,
   "id": "0f85ea88-03d6-4dcc-b0e7-fe7bc65963cc",
   "metadata": {},
   "outputs": [],
   "source": [
    "## First creating a new average price column \n",
    "\n",
    "ords_prods_merge['average_price'] = ords_prods_merge.groupby(['user_id'])['prices'].transform('mean')"
   ]
  },
  {
   "cell_type": "code",
   "execution_count": 99,
   "id": "2732835c-b99e-40b2-8829-fec63c54380b",
   "metadata": {
    "scrolled": true
   },
   "outputs": [
    {
     "data": {
      "text/plain": [
       "spending_flag\n",
       "Low spender     31770614\n",
       "High Spender      634245\n",
       "Name: count, dtype: int64"
      ]
     },
     "execution_count": 99,
     "metadata": {},
     "output_type": "execute_result"
    }
   ],
   "source": [
    "## creating a spending flag\n",
    "\n",
    "ords_prods_merge.loc[ords_prods_merge['average_price'] < 10, 'spending_flag'] = 'Low spender'\n",
    "ords_prods_merge.loc[(ords_prods_merge['average_price'] >= 10) , 'spending_flag'] = 'High Spender'\n",
    "ords_prods_merge['spending_flag'].value_counts(dropna = False)"
   ]
  },
  {
   "cell_type": "markdown",
   "id": "e728c336-7b00-4ec2-b4a1-28d8f8362b60",
   "metadata": {},
   "source": [
    "#### 2. We can also summarize further by grouping by each user and we should get 206209 as the total output corresponding to each user."
   ]
  },
  {
   "cell_type": "code",
   "execution_count": 101,
   "id": "63b06746-db44-44ab-8d56-1bc59db8f5a8",
   "metadata": {
    "scrolled": true
   },
   "outputs": [
    {
     "name": "stdout",
     "output_type": "stream",
     "text": [
      "spending_flag\n",
      "Low Spender     200852\n",
      "High Spender      5357\n",
      "Name: count, dtype: int64\n"
     ]
    }
   ],
   "source": [
    "user_avg_spending = ords_prods_merge.groupby('user_id')['prices'].mean().reset_index()\n",
    "\n",
    "user_avg_spending['spending_flag'] = np.where(\n",
    "    user_avg_spending['prices'] < 10, 'Low Spender', 'High Spender'\n",
    ") ## alternative way of creating spending flag \n",
    "\n",
    "user_spending_flag_counts = user_avg_spending['spending_flag'].value_counts()\n",
    "print(user_spending_flag_counts)\n"
   ]
  },
  {
   "cell_type": "markdown",
   "id": "b2f6f418-4671-4c09-bd60-071131ecc2e8",
   "metadata": {},
   "source": [
    "## 5. Finding Frequent vs Non-Frequent Users for Notification Purposes"
   ]
  },
  {
   "cell_type": "code",
   "execution_count": 103,
   "id": "ac81f2e8-4545-4ac6-8db0-2fad9858e4f9",
   "metadata": {},
   "outputs": [],
   "source": [
    "## First creating a new average price column \n",
    "\n",
    "ords_prods_merge['median_days_since_prior_order'] = ords_prods_merge.groupby(['user_id'])['days_since_prior_order'].transform('median')"
   ]
  },
  {
   "cell_type": "code",
   "execution_count": 112,
   "id": "9762c61d-1518-4599-b387-32014c6e8ddc",
   "metadata": {
    "scrolled": true
   },
   "outputs": [
    {
     "data": {
      "text/html": [
       "<div>\n",
       "<style scoped>\n",
       "    .dataframe tbody tr th:only-of-type {\n",
       "        vertical-align: middle;\n",
       "    }\n",
       "\n",
       "    .dataframe tbody tr th {\n",
       "        vertical-align: top;\n",
       "    }\n",
       "\n",
       "    .dataframe thead th {\n",
       "        text-align: right;\n",
       "    }\n",
       "</style>\n",
       "<table border=\"1\" class=\"dataframe\">\n",
       "  <thead>\n",
       "    <tr style=\"text-align: right;\">\n",
       "      <th></th>\n",
       "      <th>user_id</th>\n",
       "      <th>median_days_since_prior_order</th>\n",
       "      <th>freq_flag</th>\n",
       "    </tr>\n",
       "  </thead>\n",
       "  <tbody>\n",
       "    <tr>\n",
       "      <th>0</th>\n",
       "      <td>1</td>\n",
       "      <td>20.5</td>\n",
       "      <td>Non-frequent customer</td>\n",
       "    </tr>\n",
       "    <tr>\n",
       "      <th>1</th>\n",
       "      <td>1</td>\n",
       "      <td>20.5</td>\n",
       "      <td>Non-frequent customer</td>\n",
       "    </tr>\n",
       "    <tr>\n",
       "      <th>2</th>\n",
       "      <td>1</td>\n",
       "      <td>20.5</td>\n",
       "      <td>Non-frequent customer</td>\n",
       "    </tr>\n",
       "    <tr>\n",
       "      <th>3</th>\n",
       "      <td>1</td>\n",
       "      <td>20.5</td>\n",
       "      <td>Non-frequent customer</td>\n",
       "    </tr>\n",
       "    <tr>\n",
       "      <th>4</th>\n",
       "      <td>1</td>\n",
       "      <td>20.5</td>\n",
       "      <td>Non-frequent customer</td>\n",
       "    </tr>\n",
       "  </tbody>\n",
       "</table>\n",
       "</div>"
      ],
      "text/plain": [
       "   user_id  median_days_since_prior_order              freq_flag\n",
       "0        1                           20.5  Non-frequent customer\n",
       "1        1                           20.5  Non-frequent customer\n",
       "2        1                           20.5  Non-frequent customer\n",
       "3        1                           20.5  Non-frequent customer\n",
       "4        1                           20.5  Non-frequent customer"
      ]
     },
     "execution_count": 112,
     "metadata": {},
     "output_type": "execute_result"
    }
   ],
   "source": [
    "## creating a frequency flag\n",
    "ords_prods_merge.loc[ords_prods_merge['median_days_since_prior_order'] <= 10, 'freq_flag'] = 'Frequent Customer'\n",
    "ords_prods_merge.loc[(ords_prods_merge['median_days_since_prior_order'] > 10) & (ords_prods_merge['median_days_since_prior_order'] <= 20) , 'freq_flag'] = 'Normal Customer'\n",
    "ords_prods_merge.loc[ords_prods_merge['median_days_since_prior_order'] > 20, 'freq_flag'] = 'Non-frequent customer'\n",
    "\n",
    "ords_prods_merge[['user_id', 'median_days_since_prior_order', 'freq_flag']].head()"
   ]
  },
  {
   "cell_type": "markdown",
   "id": "dacecec1-c927-4c22-8ee5-ac8833632696",
   "metadata": {},
   "source": [
    "### Exporting Data"
   ]
  },
  {
   "cell_type": "code",
   "execution_count": 116,
   "id": "996b3f94-7a3d-4f21-a04f-4674128b8b89",
   "metadata": {},
   "outputs": [],
   "source": [
    "ords_prods_merge.to_pickle(os.path.join(path, '02 Data','Prepared Data', 'ords_prods_aggregations.pkl'))"
   ]
  }
 ],
 "metadata": {
  "kernelspec": {
   "display_name": "Python 3 (ipykernel)",
   "language": "python",
   "name": "python3"
  },
  "language_info": {
   "codemirror_mode": {
    "name": "ipython",
    "version": 3
   },
   "file_extension": ".py",
   "mimetype": "text/x-python",
   "name": "python",
   "nbconvert_exporter": "python",
   "pygments_lexer": "ipython3",
   "version": "3.12.4"
  }
 },
 "nbformat": 4,
 "nbformat_minor": 5
}
